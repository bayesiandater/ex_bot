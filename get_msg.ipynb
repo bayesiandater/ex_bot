{
 "cells": [
  {
   "cell_type": "code",
   "execution_count": 9,
   "metadata": {
    "collapsed": false,
    "jupyter": {
     "outputs_hidden": false
    },
    "pycharm": {
     "name": "#%%\n"
    }
   },
   "outputs": [],
   "source": [
    "import nest_asyncio\n",
    "nest_asyncio.apply()\n",
    "from telethon import TelegramClient\n",
    "from keys import api_id, api_hash, ex_name, ex_username\n",
    "import pickle"
   ]
  },
  {
   "cell_type": "code",
   "execution_count": 3,
   "metadata": {},
   "outputs": [],
   "source": [
    "async with TelegramClient('new', api_id, api_hash) as client:\n",
    "    client.loop.run_until_complete(client.send_message('me', 'Hello, myself!'))"
   ]
  },
  {
   "cell_type": "code",
   "execution_count": 4,
   "metadata": {},
   "outputs": [],
   "source": [
    "msg_from_ex = []"
   ]
  },
  {
   "cell_type": "code",
   "execution_count": 5,
   "metadata": {},
   "outputs": [],
   "source": [
    "async with TelegramClient('new', api_id, api_hash) as client:\n",
    "    async def main():\n",
    "        me = await client.get_me()\n",
    "        \n",
    "    async with client:\n",
    "        client.loop.run_until_complete(main())\n",
    "    \n",
    "        async for m in client.iter_messages(ex_name):\n",
    "            sender_name = (await m.get_sender()).username\n",
    "            if sender_name == ex_username:\n",
    "                msg_from_ex.append(m.text)\n"
   ]
  },
  {
   "cell_type": "code",
   "execution_count": 6,
   "metadata": {},
   "outputs": [],
   "source": [
    "pickle.dump(msg_from_ex, open(\"msg_from_ex\", \"wb\"))"
   ]
  },
  {
   "cell_type": "code",
   "execution_count": null,
   "metadata": {},
   "outputs": [],
   "source": [
    "# test sample - use my messages"
   ]
  }
 ],
 "metadata": {
  "kernelspec": {
   "display_name": "Python 3 (ipykernel)",
   "language": "python",
   "name": "python3"
  },
  "language_info": {
   "codemirror_mode": {
    "name": "ipython",
    "version": 3
   },
   "file_extension": ".py",
   "mimetype": "text/x-python",
   "name": "python",
   "nbconvert_exporter": "python",
   "pygments_lexer": "ipython3",
   "version": "3.8.9"
  }
 },
 "nbformat": 4,
 "nbformat_minor": 4
}
